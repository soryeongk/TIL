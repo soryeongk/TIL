from random import shuffle

def shuffle0(data):
    shuffle(data)
    return data

data0 = [1,2,3,4,5,6,7]
print(shuffle0(data0))

import random

def shuffle1(data):
    result = [0 for i in range(len(data))]
    index_list = []
    for index in range(len(data)):
        rand_index = random.randint(0,len(data)-1)
        while rand_index in index_list:
            rand_index = random.randint(0,len(data)-1)
        index_list.append(rand_index)
        result[index] = data[rand_index]
    return result

data1 = [3,2,4,5,6,7]
shuffle1(data1)

