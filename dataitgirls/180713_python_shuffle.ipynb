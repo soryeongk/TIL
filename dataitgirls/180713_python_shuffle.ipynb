{
  "nbformat": 4,
  "nbformat_minor": 0,
  "metadata": {
    "colab": {
      "name": "김소령_Shuffle",
      "version": "0.3.2",
      "provenance": [],
      "include_colab_link": true
    },
    "kernelspec": {
      "name": "python3",
      "display_name": "Python 3"
    }
  },
  "cells": [
    {
      "cell_type": "markdown",
      "metadata": {
        "id": "view-in-github",
        "colab_type": "text"
      },
      "source": [
        "[View in Colaboratory](https://colab.research.google.com/github/soryeongk/TIL/blob/master/dataitgirls/180713_python_shuffle.ipynb)"
      ]
    },
    {
      "metadata": {
        "id": "heSABQxhjY3r",
        "colab_type": "code",
        "colab": {
          "base_uri": "https://localhost:8080/",
          "height": 35
        },
        "outputId": "7b4254f6-1ed3-4151-e470-b96c411efccb"
      },
      "cell_type": "code",
      "source": [
        "from random import shuffle\n",
        "\n",
        "def shuffle0(data):\n",
        "    shuffle(data)\n",
        "    return data\n",
        "\n",
        "data0 = [1,2,3,4,5,6,7]\n",
        "print(shuffle0(data0))"
      ],
      "execution_count": 27,
      "outputs": [
        {
          "output_type": "stream",
          "text": [
            "[1, 6, 2, 4, 3, 7, 5]\n"
          ],
          "name": "stdout"
        }
      ]
    },
    {
      "metadata": {
        "id": "3dp_Hh-VrKGE",
        "colab_type": "code",
        "colab": {
          "base_uri": "https://localhost:8080/",
          "height": 35
        },
        "outputId": "b6dafe67-5278-4c17-ddf4-79532cdc968d"
      },
      "cell_type": "code",
      "source": [
        "import random\n",
        "\n",
        "def shuffle1(data):\n",
        "    result = [0 for i in range(len(data))]\n",
        "    index_list = []\n",
        "    for index in range(len(data)):\n",
        "        rand_index = random.randint(0,len(data)-1)\n",
        "        while rand_index in index_list:\n",
        "            rand_index = random.randint(0,len(data)-1)\n",
        "        index_list.append(rand_index)\n",
        "        result[index] = data[rand_index]\n",
        "    return result\n",
        "\n",
        "data1 = [3,2,4,5,6,7]\n",
        "shuffle1(data1)"
      ],
      "execution_count": 42,
      "outputs": [
        {
          "output_type": "execute_result",
          "data": {
            "text/plain": [
              "[2, 3, 6, 4, 5, 7]"
            ]
          },
          "metadata": {
            "tags": []
          },
          "execution_count": 42
        }
      ]
    },
    {
      "metadata": {
        "id": "TWNI6-lH1Tsd",
        "colab_type": "code",
        "colab": {}
      },
      "cell_type": "code",
      "source": [
        ""
      ],
      "execution_count": 0,
      "outputs": []
    },
    {
      "metadata": {
        "id": "2iBpsWX-FbF1",
        "colab_type": "code",
        "colab": {
          "base_uri": "https://localhost:8080/",
          "height": 35
        },
        "outputId": "f5728692-eb4e-4123-bd00-99434fc1ef39"
      },
      "cell_type": "code",
      "source": [
        "# 랜덤수를 선정해서 그 만큼 오른쪽 왼쪽 왔다갔다.\n",
        "import random\n",
        "\n",
        "index_list = [i for i in range(len(data))]\n",
        "new_index = []\n",
        "for index in index_list:\n",
        "    while index not in new_index:\n",
        "        for r in range(random.randint(1,20)):\n",
        "            index += 1\n",
        "            if index > len(data)-1:\n",
        "                index = 0\n",
        "for datum in data:\n",
        "    for n_index in new_index:\n",
        "        result[n_index] = datum\n",
        "    \n",
        "data2 = [8,2,5,3,9,1]\n",
        "temp_dict={}\n",
        "for datum in data2:\n",
        "    temp_dict[datum] = data2.index(datum)\n"
      ],
      "execution_count": 19,
      "outputs": [
        {
          "output_type": "execute_result",
          "data": {
            "text/plain": [
              "{1: 5, 2: 1, 3: 3, 5: 2, 8: 0, 9: 4}"
            ]
          },
          "metadata": {
            "tags": []
          },
          "execution_count": 19
        }
      ]
    },
    {
      "metadata": {
        "id": "3xHQH2JF16fi",
        "colab_type": "code",
        "colab": {}
      },
      "cell_type": "code",
      "source": [
        ""
      ],
      "execution_count": 0,
      "outputs": []
    }
  ]
}