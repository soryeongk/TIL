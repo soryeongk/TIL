{
  "nbformat": 4,
  "nbformat_minor": 0,
  "metadata": {
    "colab": {
      "name": "180708_python_sigma.ipynb",
      "version": "0.3.2",
      "provenance": [],
      "include_colab_link": true
    },
    "kernelspec": {
      "name": "python3",
      "display_name": "Python 3"
    }
  },
  "cells": [
    {
      "cell_type": "markdown",
      "metadata": {
        "id": "view-in-github",
        "colab_type": "text"
      },
      "source": [
        "[View in Colaboratory](https://colab.research.google.com/github/soryeongk/TIL/blob/master/Dataitgirls/180708_python_sigma.ipynb)"
      ]
    },
    {
      "metadata": {
        "id": "mH7mrMloSjj4",
        "colab_type": "code",
        "colab": {
          "base_uri": "https://localhost:8080/",
          "height": 17
        },
        "outputId": "d347a056-3ce8-4290-9bed-a086bdeac767"
      },
      "cell_type": "code",
      "source": [
        "candidates = {\n",
        "  'alan': [8, 14, 6, 8, 14, 9, 14, 9, 15, 5],\n",
        "  'brad': [11, 4, 11, 7, 9, 7, 8, 7, 6],\n",
        "  'cate': [16, 22, 15, 12, 3, 20, 17, 13, 23],\n",
        "  'dave': [24, 15, 18, 18, 12, 9, 19, 23, 13, 14, 18]\n",
        "}"
      ],
      "execution_count": 41,
      "outputs": []
    },
    {
      "metadata": {
        "id": "CYmp3oTYSqJs",
        "colab_type": "code",
        "colab": {
          "base_uri": "https://localhost:8080/",
          "height": 89
        },
        "outputId": "cc24f875-6453-4a76-9191-2875845abb84"
      },
      "cell_type": "code",
      "source": [
        "def average(list_data):\n",
        "  return sum(list_data)/len(list_data)\n",
        "average_list = sorted([(n, average(a)) for n, a in candidates.items()], key=lambda s: s[1], reverse=True)\n",
        "average_list"
      ],
      "execution_count": 55,
      "outputs": [
        {
          "output_type": "execute_result",
          "data": {
            "text/plain": [
              "[('dave', 16.636363636363637),\n",
              " ('cate', 15.666666666666666),\n",
              " ('alan', 10.2),\n",
              " ('brad', 7.777777777777778)]"
            ]
          },
          "metadata": {
            "tags": []
          },
          "execution_count": 55
        }
      ]
    },
    {
      "metadata": {
        "id": "wVG8p2S0StOo",
        "colab_type": "code",
        "colab": {
          "base_uri": "https://localhost:8080/",
          "height": 17
        },
        "outputId": "ad134f5b-e4d5-4b1b-b7d1-0335053b30f9"
      },
      "cell_type": "code",
      "source": [
        "def sigma(list_data): #[8, 14, 6, 8, 14, 9, 14, 9, 15, 5]\n",
        "    return (sum((list_data[n]-average(list_data))**2 for n in range(len(list_data)))/len(list_data))**0.5"
      ],
      "execution_count": 43,
      "outputs": []
    },
    {
      "metadata": {
        "id": "q0CEkMlzUP93",
        "colab_type": "code",
        "colab": {
          "base_uri": "https://localhost:8080/",
          "height": 35
        },
        "outputId": "188fd6f8-ffba-42d1-cd6f-93640cb12143"
      },
      "cell_type": "code",
      "source": [
        "sigma_list = sorted([(k,sigma(v)) for k,v in candidates.items()], key=lambda s: s[1])\n",
        "print(sigma_list)"
      ],
      "execution_count": 56,
      "outputs": [
        {
          "output_type": "stream",
          "text": [
            "[('brad', 2.1487866228681907), ('alan', 3.515679166249389), ('dave', 4.354156369028381), ('cate', 5.734883511361751)]\n"
          ],
          "name": "stdout"
        }
      ]
    },
    {
      "metadata": {
        "id": "Ca6FwIamZdxE",
        "colab_type": "code",
        "colab": {}
      },
      "cell_type": "code",
      "source": [
        ""
      ],
      "execution_count": 0,
      "outputs": []
    }
  ]
}