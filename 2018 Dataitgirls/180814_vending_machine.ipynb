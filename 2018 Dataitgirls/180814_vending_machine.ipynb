{
 "cells": [
  {
   "cell_type": "code",
   "execution_count": 1,
   "metadata": {},
   "outputs": [],
   "source": [
    "def vm():\n",
    "    pass\n"
   ]
  },
  {
   "cell_type": "code",
   "execution_count": 2,
   "metadata": {},
   "outputs": [
    {
     "data": {
      "text/plain": [
       "'\\n[따라하기]\\n\\n동전 100 → “100원을 넣었습니다.”\\n잔액 → “잔액은 100원입니다.”\\n\\n음료 커피 →\\n잔액이 충분하면 잔액 150원이 차감 후 “커피가 나왔습니다.”\\n잔액이 부족하면 “잔액이 부족합니다.”\\n'"
      ]
     },
     "execution_count": 2,
     "metadata": {},
     "output_type": "execute_result"
    }
   ],
   "source": [
    "'''\n",
    "[따라하기]\n",
    "\n",
    "동전 100 → “100원을 넣었습니다.”\n",
    "잔액 → “잔액은 100원입니다.”\n",
    "\n",
    "음료 커피 →\n",
    "잔액이 충분하면 잔액 150원이 차감 후 “커피가 나왔습니다.”\n",
    "잔액이 부족하면 “잔액이 부족합니다.”\n",
    "'''"
   ]
  },
  {
   "cell_type": "code",
   "execution_count": 3,
   "metadata": {},
   "outputs": [
    {
     "data": {
      "text/plain": [
       "'\\n얼마의 동전이 들어왔는가?\\n커피/음료보다 가격이 높은가?\\n    높으면, 커피/음료를 주고, 잔액을 알려줌\\n    낮으면, 잔액이 부족합니다.\\n'"
      ]
     },
     "execution_count": 3,
     "metadata": {},
     "output_type": "execute_result"
    }
   ],
   "source": [
    "'''\n",
    "얼마의 동전이 들어왔는가?\n",
    "커피/음료보다 가격이 높은가?\n",
    "    높으면, 커피/음료를 주고, 잔액을 알려줌\n",
    "    낮으면, 잔액이 부족합니다.\n",
    "'''"
   ]
  },
  {
   "cell_type": "code",
   "execution_count": 38,
   "metadata": {},
   "outputs": [
    {
     "data": {
      "text/plain": [
       "150"
      ]
     },
     "execution_count": 38,
     "metadata": {},
     "output_type": "execute_result"
    }
   ],
   "source": [
    "def vm(vm_dict):\n",
    "    coin = int(input('동전을 넣어주세요: '))\n",
    "    drink = input('음료를 선택해주세요: ')\n",
    "    price = vm_dict[drink]\n",
    "    while coin >= price:\n",
    "        coin = coin - price\n",
    "        print('선택하신 음료 \\'{0}\\'가 나왔습니다. 잔액은 {1}원입니다.'.format(drink, coin))\n",
    "        if coin >= min(vm_dict.values()):\n",
    "            more_drink = input('음료를 더 선택하시려면 아무키나 누르세요(No = [Enter])')\n",
    "            if more_drink != '':\n",
    "                drink = input('음료를 선택해주세요: ')\n",
    "            else:\n",
    "                break\n",
    "        else:\n",
    "            more_coin = input('돈을 더 넣으시려면 금액을 입력하세요(No = [Enter])')\n",
    "            if more_coin == '':\n",
    "                break\n",
    "            else:\n",
    "                coin += int(more_coin)\n",
    "    if coin < price:\n",
    "        print('잔액이 부족합니다. 들어온 돈 : {0}원, 음료값 : {1}원'.format(coin, price))\n",
    "    print('잔액 {}원을 반환합니다.'.format(coin))\n",
    "\n",
    "vm_dict = {'밀크커피' : 150, '콜라' : 200, '사이다' : 200}\n",
    "min(vm_dict.values())"
   ]
  },
  {
   "cell_type": "code",
   "execution_count": 39,
   "metadata": {},
   "outputs": [
    {
     "name": "stdout",
     "output_type": "stream",
     "text": [
      "동전을 넣어주세요: 100\n",
      "음료를 선택해주세요: 콜라\n",
      "잔액이 부족합니다. 들어온 돈 : 100원, 음료값 : 200원\n",
      "잔액 100원을 반환합니다.\n"
     ]
    }
   ],
   "source": [
    "vm(vm_dict)"
   ]
  },
  {
   "cell_type": "code",
   "execution_count": null,
   "metadata": {},
   "outputs": [],
   "source": []
  }
 ],
 "metadata": {
  "kernelspec": {
   "display_name": "Python 3",
   "language": "python",
   "name": "python3"
  },
  "language_info": {
   "codemirror_mode": {
    "name": "ipython",
    "version": 3
   },
   "file_extension": ".py",
   "mimetype": "text/x-python",
   "name": "python",
   "nbconvert_exporter": "python",
   "pygments_lexer": "ipython3",
   "version": "3.6.5"
  }
 },
 "nbformat": 4,
 "nbformat_minor": 2
}
