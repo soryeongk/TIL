{
  "nbformat": 4,
  "nbformat_minor": 0,
  "metadata": {
    "colab": {
      "name": "0716_python.ipynb",
      "version": "0.3.2",
      "provenance": [],
      "include_colab_link": true
    },
    "kernelspec": {
      "name": "python3",
      "display_name": "Python 3"
    }
  },
  "cells": [
    {
      "cell_type": "markdown",
      "metadata": {
        "id": "view-in-github",
        "colab_type": "text"
      },
      "source": [
        "[View in Colaboratory](https://colab.research.google.com/github/soryeongk/TIL/blob/master/Dataitgirls/0716_python.ipynb)"
      ]
    },
    {
      "metadata": {
        "id": "x381t2OCczei",
        "colab_type": "text"
      },
      "cell_type": "markdown",
      "source": [
        "나누어 정복하기 전략(Divide-and-Conquer)을 사용하는 것이 좋음\n",
        "- 어려운 문제는 충분히 작은 문제로 나누어 풀기\n",
        "- ex. (랜덤한 수를 만드는 문제) + (랜덤한 수를 이용해서 리스트를 섞는 문제)"
      ]
    },
    {
      "metadata": {
        "id": "mzkW0Rsx2ftR",
        "colab_type": "text"
      },
      "cell_type": "markdown",
      "source": [
        "송서영님, 김소령님, 안세영님, 이지윤님의 random.shuffle()을 이용한 방법.\n",
        "\n",
        "* 가장 편리하고 빠른 방법입니다."
      ]
    },
    {
      "metadata": {
        "id": "mGjCDQFr2yoM",
        "colab_type": "code",
        "colab": {
          "base_uri": "https://localhost:8080/",
          "height": 34
        },
        "outputId": "ef560353-df33-496c-a7f9-13a05e49919a"
      },
      "cell_type": "code",
      "source": [
        "import random\n",
        "\n",
        "\n",
        "def shuffle(data):\n",
        "    copied = data[:]\n",
        "    random.shuffle(copied)\n",
        "    return copied\n",
        "\n",
        "\n",
        "data = [1, 2, 3, 4, 5]\n",
        "copied = shuffle(data)\n",
        "copied"
      ],
      "execution_count": 0,
      "outputs": [
        {
          "output_type": "execute_result",
          "data": {
            "text/plain": [
              "[2, 1, 5, 3, 4]"
            ]
          },
          "metadata": {
            "tags": []
          },
          "execution_count": 8
        }
      ]
    },
    {
      "metadata": {
        "id": "nDes6aRPrvsZ",
        "colab_type": "text"
      },
      "cell_type": "markdown",
      "source": [
        "이다혜님과 김예은님의 `random.sample()`을 활용한 방법.\n",
        "\n",
        "* 데이터의 수만큼 비복원 임의추출(random sampling without replacement)을 수행\n",
        "* 좋은 결과를 보장하는 방법 중 하나"
      ]
    },
    {
      "metadata": {
        "id": "0iUmoCXDcfOw",
        "colab_type": "text"
      },
      "cell_type": "markdown",
      "source": [
        "* random.sample(data, n)\n",
        "  - data에 있는 요소들 중에서 3개만 뽑아서 임의적으로 샘플링을 해줌.\n",
        "  - 비복원방식으로 추출하기 때문에, 중복이 없음"
      ]
    },
    {
      "metadata": {
        "id": "V0WMeFcCr0fO",
        "colab_type": "code",
        "colab": {
          "base_uri": "https://localhost:8080/",
          "height": 35
        },
        "outputId": "267eb726-a826-40bc-b2d5-edca6867f9c3"
      },
      "cell_type": "code",
      "source": [
        "import random\n",
        "\n",
        "data = [1, 2, 3, 4, 5, 6]\n",
        "random.sample(data, len(data))"
      ],
      "execution_count": 0,
      "outputs": [
        {
          "output_type": "execute_result",
          "data": {
            "text/plain": [
              "[4, 3, 2, 5, 1]"
            ]
          },
          "metadata": {
            "tags": []
          },
          "execution_count": 3
        }
      ]
    },
    {
      "metadata": {
        "id": "n7hQrhLv1q4P",
        "colab_type": "text"
      },
      "cell_type": "markdown",
      "source": [
        "김희영님의 길이에 따른 정렬 방법.\n",
        "\n",
        "* \"길이\"라는 기준이 너무 규칙적이어서 문제이지만 기준을 충분히 복잡하게 바꿔주면 경우에 따라 좋은 방식\n",
        "* \"길이\" 대신 해시값(hash value)을 사용하면 hash-based sampling이라는 임의 추출 방법이 됩니다. 이후에 배울 내용 중 하나."
      ]
    },
    {
      "metadata": {
        "id": "EXz4GPtlci9z",
        "colab_type": "text"
      },
      "cell_type": "markdown",
      "source": [
        "* 정렬의 기준을 달리함으로써 정렬도 셔플이 될 수 있음"
      ]
    },
    {
      "metadata": {
        "id": "-gLSXcrH17wv",
        "colab_type": "code",
        "colab": {
          "base_uri": "https://localhost:8080/",
          "height": 34
        },
        "outputId": "ef3a8dd4-7fd2-409b-f2b0-0a825ac674a2"
      },
      "cell_type": "code",
      "source": [
        "def sort_by_len(data): # 인자의 길이 순으로 리스트를 출력\n",
        "  return sorted(data, key=len)\n",
        "\n",
        "d= [\"chicken\", \"bentto\", \"pizza\", \"chinese\", \"icecream\", \"milk\", \"pretzel\"]\n",
        "print(sort_by_len(d)) # 장점 : 한 번 쓰기에는 좋다. / 단점 : 랜덤하다고 말할 수 없을 정도로 규칙이 확실한 리스트이다ㅠㅠ"
      ],
      "execution_count": 0,
      "outputs": [
        {
          "output_type": "stream",
          "text": [
            "['milk', 'pizza', 'bentto', 'chicken', 'chinese', 'pretzel', 'icecream']\n"
          ],
          "name": "stdout"
        }
      ]
    },
    {
      "metadata": {
        "id": "YruZqv756GYC",
        "colab_type": "text"
      },
      "cell_type": "markdown",
      "source": [
        "이지윤님의 현재 시간을 이용한 랜덤.\n",
        "\n",
        "* 실제 세상으로부터 노이즈(현재 시간, 마우스 위치, 베터리 잔량, 키보드 입력 패턴 등등)를 끌어와서 랜덤 요소로 쓰는 시도가 많이 있습니다.\n",
        "* 다만 \"시간(realtime clock)\"만 쓰기에는 요즘 컴퓨터가 너무 빨라서 문제.\n"
      ]
    },
    {
      "metadata": {
        "id": "gnZCYZ9J6JL0",
        "colab_type": "code",
        "colab": {
          "base_uri": "https://localhost:8080/",
          "height": 51
        },
        "outputId": "144dbe25-d0e0-4fba-99a0-cb5bf725694a"
      },
      "cell_type": "code",
      "source": [
        "# 현재 시간을 이용한 랜덤\n",
        "import time\n",
        "data = [1, 2, 3, 4, 5, 6, 7, 8, 9, 10]\n",
        " \n",
        "def shuffle1(data):\n",
        "  now = int(time.time())\n",
        "  random = now % 10\n",
        "  result = data.copy()\n",
        "  length = len(data)-1\n",
        "  for num in range(length) :\n",
        "    temp = result[num]\n",
        "    result[num] = result[length - random]\n",
        "    result[length-random] = temp\n",
        "  return result\n",
        "  \n",
        "print('shuffle ', shuffle1(data))\n",
        "print('원본 ', data)"
      ],
      "execution_count": 0,
      "outputs": [
        {
          "output_type": "stream",
          "text": [
            "shuffle  [8, 1, 2, 3, 4, 5, 6, 9, 7, 10]\n",
            "원본  [1, 2, 3, 4, 5, 6, 7, 8, 9, 10]\n"
          ],
          "name": "stdout"
        }
      ]
    },
    {
      "metadata": {
        "id": "UKms9KPa4lwF",
        "colab_type": "text"
      },
      "cell_type": "markdown",
      "source": [
        "안세영님의 임의의 위치에서 뽑아서 또다른 임의의 위치에 넣기를 반복.\n",
        "\n",
        "* 몇 번 반복해야 최적인지를 정할 필요가 있음"
      ]
    },
    {
      "metadata": {
        "id": "_8eYE-rb4rUQ",
        "colab_type": "code",
        "colab": {
          "base_uri": "https://localhost:8080/",
          "height": 51
        },
        "outputId": "76ce81a7-8e4c-4b4d-8d4e-a8cfff15ca91"
      },
      "cell_type": "code",
      "source": [
        "import random\n",
        "\n",
        "a = [1, 2, 3, 4, 5]\n",
        "\n",
        "def shuffle2(data):\n",
        "  n = len(data)\n",
        "  shuffled_data = data[:]\n",
        "  \n",
        "  for i in range(20):\n",
        "    random_index = random.randint(0, n-1)  \n",
        "    random_index2 = random.randint(0, n-1)\n",
        "    value = shuffled_data.pop(random_index)\n",
        "    shuffled_data.insert(random_index2, value)\n",
        "  \n",
        "  return shuffled_data\n",
        "\n",
        "print(a)\n",
        "print(shuffle2(a))"
      ],
      "execution_count": 0,
      "outputs": [
        {
          "output_type": "stream",
          "text": [
            "[1, 2, 3, 4, 5]\n",
            "[5, 2, 4, 3, 1]\n"
          ],
          "name": "stdout"
        }
      ]
    },
    {
      "metadata": {
        "id": "G3S1JbIbpAKh",
        "colab_type": "text"
      },
      "cell_type": "markdown",
      "source": [
        "이은지님의 Case 3:\n",
        "\n",
        "* 파이썬 내장 함수와 동일한 품질의 결과를 내는 방식. 다만 성능 개선 여지가 있음\n",
        "* 이다혜님, 정지은님, 정지혜님, 김소령님도 유사한 방식을 시도하였음\n",
        "* `data4`는 함수 내부로 옮기기\n",
        "* 학습 초기엔 아래와 같이 주석을 꼼꼼하게 쓰는 연습을 하면 좋음. 다만 `git diff` 등을 생각하면 칼럼을 한 줄로 맞추지 않는 편이 좋습니다."
      ]
    },
    {
      "metadata": {
        "id": "DHsPhOj6pY7v",
        "colab_type": "code",
        "colab": {
          "base_uri": "https://localhost:8080/",
          "height": 51
        },
        "outputId": "8c92d5a7-8a78-4ccf-e001-d978dabc28b8"
      },
      "cell_type": "code",
      "source": [
        "import random  # Random 모듈 호출\n",
        "\n",
        "data = [\"Heroes\", \"Bears\", \"Eagles\", \"Twins\", \"Wyverns\", \"Lions\", \"Giants\", \"Dinos\", \"Tigers\", \"Wiz\"]\n",
        "\n",
        "def shuffle2(data):\n",
        "    # 결과값 입력을 위한 리스트 생성\n",
        "    data_4 = []                                       \n",
        "    # 무한 반복. 이 부분을 for 문으로 처리하면 결과값 리스트가 모두 채워지지 않아도 함수가 끝나는\n",
        "    # 오류가 발생.\n",
        "    while True:                                       \n",
        "        if len(data) == len(data4):                   # 원본 리스트(data)와 결과값 리스트(data4)의 인덱스가 동일해지면...\n",
        "            break                                     # 함수 종료\n",
        "        else:                                         # 원본 리스트(data)와 결과값 리스트(data4)의 인덱스가 동일하지 않으면...\n",
        "            choice = random.choice(data)              # 원본 리스트(data)의 요소 중 하나를 random하게 선택\n",
        "            if choice in data4:                       # 선택된 요소(choice)가 결과값 리스트(data4)에 이미 존재한다면...\n",
        "                pass                                  # 아무 변화 없이 pass\n",
        "            else:                                     # 선택된 요소가 결과값 리스트에 없다면...\n",
        "                data4.append(choice)                  # 결과값 리스트에 선택된 요소를 추가\n",
        "    return data4\n",
        "\n",
        "data_4th = shuffle2(data)\n",
        "print(data_4th)\n",
        "print(data)"
      ],
      "execution_count": 0,
      "outputs": [
        {
          "output_type": "stream",
          "text": [
            "['Twins', 'Tigers', 'Eagles', 'Giants', 'Lions', 'Bears', 'Heroes', 'Wiz', 'Dinos', 'Wyverns']\n",
            "['Heroes', 'Bears', 'Eagles', 'Twins', 'Wyverns', 'Lions', 'Giants', 'Dinos', 'Tigers', 'Wiz']\n"
          ],
          "name": "stdout"
        }
      ]
    },
    {
      "metadata": {
        "id": "YlYEGd_stKyg",
        "colab_type": "text"
      },
      "cell_type": "markdown",
      "source": [
        "박소현님의 03번, 장예빈님의 3번:\n",
        "\n",
        "* Fisher-Yates sampling 알고리즘과 동일\n",
        "* 개선의 여지가 있음 (in-place swapping)"
      ]
    },
    {
      "metadata": {
        "id": "N3koCL3Qc6pl",
        "colab_type": "text"
      },
      "cell_type": "markdown",
      "source": [
        "* 피셔-예이츠 셔플링(Fisher-Yates shuffling) 알고리즘 소개\n",
        "    - Ronald Fisher와 Frank Yates가 1938에 <Statistical tables for biological,\n",
        "      agricultural and medical research>에서 소개한 절차.\n",
        "    - “난수표\"랑 종이와 연필이 필요.\n",
        "    - 알고리즘 시각화, 알고리즘 수행 결과의 시각화 (데이터 시각화의 또다른 활용 사례)"
      ]
    },
    {
      "metadata": {
        "id": "l6f_OtZLpcGW",
        "colab_type": "code",
        "colab": {
          "base_uri": "https://localhost:8080/",
          "height": 34
        },
        "outputId": "7bbe9891-ca88-4297-bddb-c0e51c195de6"
      },
      "cell_type": "code",
      "source": [
        "from random import randint\n",
        "\n",
        "def shuffle3(data):\n",
        "  new_list = data.copy()\n",
        "  result = []\n",
        "  x = 0\n",
        "  for x in range(len(data)):\n",
        "    index = (randint(0, len(new_list) - 1))\n",
        "    result.append(new_list[index])\n",
        "    del new_list[index]\n",
        "  print(result)\n",
        "  \n",
        "shuffle3([1, 2, 3, 4, 5])"
      ],
      "execution_count": 0,
      "outputs": [
        {
          "output_type": "stream",
          "text": [
            "[5, 4, 1, 2, 3]\n"
          ],
          "name": "stdout"
        }
      ]
    },
    {
      "metadata": {
        "id": "hG_0ZUMivMrR",
        "colab_type": "text"
      },
      "cell_type": "markdown",
      "source": [
        "기타:\n",
        "\n",
        "* 김예은님: 평가 기준(수행 속도가 얼마나 빠른가)을 미리 정한 점, 측정을 자동화하기 위한 함수를 만든 점이 훌륭합니다."
      ]
    },
    {
      "metadata": {
        "id": "JAxtu78Tc96z",
        "colab_type": "text"
      },
      "cell_type": "markdown",
      "source": [
        "* 평가기준을 미리 정해서 측정을 자동화하기 위한 함수를 만들어두는 것도 매우 좋음"
      ]
    },
    {
      "metadata": {
        "id": "l98HqosAc_OQ",
        "colab_type": "text"
      },
      "cell_type": "markdown",
      "source": [
        "# 크롤링 - 오전\n",
        "  * 인터넷, 웹, 웹 브라우저, HTML\n",
        "  * 인터넷(The Internet)\n",
        "    : 컴퓨터 네트워크들의 네트워크(inter-network)\n",
        "  * 웹(web) 또는 월드 와이드 웹(World Wide Web; WWW)\n",
        "    - HTTP(HyperText Transfer Protocol)로 통신하는 컴퓨터들의 네트워크.\n",
        "    - 프로토콜? 양방향 라디오 통신 프로토콜 사례\n",
        "      : Over, Roger, Affirmative, Negative, Out\n",
        "    - HTTP는 인터넷 프로토콜 “위에\" 구현되어 있음. 웹은 인터넷의 일부\n",
        "  * 웹이 아닌 인터넷은 뭐가 있을까? : 게임, 카카오톡, 이메일 등\n",
        "  * 웹에서 가장 중요한 개념:\n",
        "    - URL(Uniform Resource Locator):\n",
        "      형식\n",
        "      \n",
        "      - protocol://user@host:port/path?query#fragment\n",
        "     \n",
        "      - https://www.google.com/search?q=test\n",
        "      \n",
        "      - https는 조금 더 안전한, 신뢰할 수 있는 사이트임을 의미\n",
        "    - Hyperlink, Hypertext, HTML (HyperText Markup Language)\n",
        "    - 웹 문서(HTML)의 구조 3D로 보기"
      ]
    },
    {
      "metadata": {
        "id": "ZFVB1l3BdB00",
        "colab_type": "code",
        "colab": {}
      },
      "cell_type": "code",
      "source": [
        "from urllib import request\n",
        "\"\"\"import urllib.request로도 쓸 수 있지만,\n",
        "   아래의 request를 urllib.request라고 써야 함\"\"\"\n",
        "\n",
        "url = \"https://www.naver.com\"\n",
        "with request.urlopen(url) as f:\n",
        "    html = f.read().decode('utf-8')\n",
        "    print(html)"
      ],
      "execution_count": 0,
      "outputs": []
    },
    {
      "metadata": {
        "id": "7PoGQwAzdGyK",
        "colab_type": "text"
      },
      "cell_type": "markdown",
      "source": [
        "## 웹 크롤링 연습\n",
        "  * 프로그래밍에서 중요한 것은 자원을 관리하는 것\n",
        "  * 메모리가 자원 중 하나로, 사용하지 않는 메모리를 알아서 수거하기도 하지만,\n",
        "    그러지 못하는 경우도 많음\n",
        "  * 예를 들면, 자료를 열어서 읽은 후에는 다시 닫아 둬야 함\n",
        "  * 자료의 내용을 f라는 함수로 담아두었다가 사용이 끝나면 다시 버림\n",
        "    - with 어쩌고 as 저쩌고:\n",
        "      = 어쩌고가 만든 자원을 저쩌고에 할당하고 다 쓴 다음에는 자원 사용을 해제\n",
        "    - 리눅스에서는 되도록 많은 것을 file에 담고자 함\n",
        "      그래서 url 자원도 f(file)에 담는 것\n",
        "        프린트, 키보드 등도 파일로서, 파일을 열어서 입출력을 받고 다시 닫음"
      ]
    },
    {
      "metadata": {
        "id": "83CvLXQ04WTk",
        "colab_type": "code",
        "colab": {
          "base_uri": "https://localhost:8080/",
          "height": 87
        },
        "outputId": "658149a3-ddfe-4cc7-fd79-f8a855b8c246"
      },
      "cell_type": "code",
      "source": [
        "!pip install html5lib  #파이썬이 아닌 리눅스 명령어 구글 컴퓨터에 패키지를 설치"
      ],
      "execution_count": 4,
      "outputs": [
        {
          "output_type": "stream",
          "text": [
            "Requirement already satisfied: html5lib in /usr/local/lib/python3.6/dist-packages (1.0.1)\n",
            "Requirement already satisfied: webencodings in /usr/local/lib/python3.6/dist-packages (from html5lib) (0.5.1)\n",
            "Requirement already satisfied: six>=1.9 in /usr/local/lib/python3.6/dist-packages (from html5lib) (1.11.0)\n"
          ],
          "name": "stdout"
        },
        {
          "output_type": "execute_result",
          "data": {
            "text/plain": [
              "'파이썬이 아닌 리눅스 명령어 구글 컴퓨터에 패키지를 설치'"
            ]
          },
          "metadata": {
            "tags": []
          },
          "execution_count": 4
        }
      ]
    },
    {
      "metadata": {
        "id": "Y_sbCWvUGDbK",
        "colab_type": "text"
      },
      "cell_type": "markdown",
      "source": [
        "# 크롤링 - 오후\n",
        "## 저작권, 라이선스\n",
        "  그런데 웹에 있는 자료는 누구나 어떠한 용도로나 써도 되는걸까?\n",
        "    * 저작권(copyright), 라이선스(license)\n",
        "      - 대부분의 자료들은 누군가에게 권한이 있음\n",
        "    * 소프트웨어 저작권과 데이터/콘텐츠 저작권\n",
        "      - 라이선스를 어딘가에 명시해두기도 함\n",
        "    * CCL, 공공누리\n",
        "    * 로봇 배제 프로토콜 robots.txt\n",
        "      - https://www.daum.net/robots.txt (다음)\n",
        "      - https://www.naver.com/robots.txt (네이버)\n",
        "      - https://www1.president.go.kr/robots.txt (청와대국민청원)\n",
        "    * 호출 간격 제한(rate limits)과 방화벽(firewall)"
      ]
    },
    {
      "metadata": {
        "id": "uY7gmSAAGHFO",
        "colab_type": "text"
      },
      "cell_type": "markdown",
      "source": [
        "## 마크업(markup)\n",
        "  * 기존 문서에 기입하는 부가적인 정보\n",
        "  * 문서의 구조에 대한 정보, 맞춤법 교정 등\n",
        "### 마크업 언어(markup language)\n",
        "  * 마크업 정보를 컴퓨터로 일관되게 표기위한 인공 언어\n",
        "    - ex. mark down 경량의 언어\n",
        "    - HTML : 하이퍼텍스트에 대한 마크업을 표기위한 인공 언어\n",
        "      하이퍼텍스트 : 하이퍼 링크가 담겨 있는 텍스트\n",
        "  * 만들어보기\n",
        "  \\^^/제목: 돌아온' 오늘 MBC 뉴스의 첫 앵커 멘트는 '사과'였다\n",
        "\n",
        "  \\^^/날짜: 2017년 12월 08일 15시 27분, ^^\\*작성자: 허완 기자, ^^\\*매체: 허핑턴포스트코리아\n",
        "\n",
        "  \\^^/서론:\n",
        "  \\^^/인용: _“저희 MBC는 신임 최승호 사장의 취임에 맞춰, 오늘(8일)부터 뉴스데스크 앵커를 교체하고 당분간 뉴스를 임시체제로 진행합니다. 저희들은 재정비 기간 동안 MBC 보도가 시청자 여러분께 남긴 상처들을 거듭 되새기며, 철저히 반성하는 시간을 갖겠습니다. 치밀한 준비를 거쳐 빠른 시일 안에 정확하고 겸손하고 따뜻한 뉴스데스크로 시청자 여러분께 다시 인사드리겠습니다.”_\n",
        "\n",
        "  \\^^/본론: 8일 저녁 8시, MBC 메인뉴스인 '뉴스데스크' 대신 'MBC뉴스'라는 타이틀로 방송된 뉴스에서 임시 앵커를 맡은 김수지 아나운서는 짤막한 사과문을 읽어내려갔다."
      ]
    },
    {
      "metadata": {
        "id": "os0DD2DfGKlI",
        "colab_type": "text"
      },
      "cell_type": "markdown",
      "source": [
        "## HTML 분석하여 DOM 트리 구성하기\n",
        "  * HTML은 긴 문자열. 긴 문자열을 분석(parse)하여\n",
        "\n",
        "  나무구조(tree structure)로 만든 것이 HTML DOM(Document Object Model) 트리.\n",
        "\n",
        "  * 내가 자주 가는 사이트의 DOM 트리 살펴보기 (브라우저의 개발자 도구 활용).\n",
        "\n",
        "### DOM 트리 구성하기. 외부 라이브러리: html5lib\n",
        "  * HTML을 더 공부해보고 싶으면?\n",
        "  - 생활코딩 WEB1 - 쉽고 친절하고 내용도 비교적 정확한 자습 사이트\n"
      ]
    },
    {
      "metadata": {
        "id": "zJYqiQ58GRDY",
        "colab_type": "text"
      },
      "cell_type": "markdown",
      "source": [
        "<!DOCTYPE html>\n",
        "<html>\n",
        "  <head>\n",
        "    <meta charset=\"utf-8>\"\n",
        "    <title>\n",
        "      <style>\n",
        "    h1 {\n",
        "      color : red;\n",
        "    }\n",
        "      </style>\n",
        "    </title>\n",
        "  </head>\n",
        "  <body>\n",
        "    <h1>'돌아온' 오늘 MBC 뉴스의 첫 앵커 멘트는 '사과'였다.</h1>\n",
        "    <p>2017년 12월 08일 15시 27분, 허완 기자, 허핑턴포스트코리아</p>\n",
        "    <blockquote>\n",
        "      <p>“저희 MBC는 신임 최승호 사장의 취임에 맞춰, 오늘(8일)부터 뉴스데스크 앵커를 교체하고 당분간 뉴스를 임시체제로 진행합니다. 저희들은 재정비 기간 동안 MBC 보도가 시청자 여러분께 남긴 상처들을 거듭 되새기며, 철저히 반성하는 시간을 갖겠습니다.</p>\n",
        "      <p>치밀한 준비를 거쳐 빠른 시일 안에 정확하고 겸손하고 따뜻한 뉴스데스크로 시청자 여러분께 다시 인사드리겠습니다.”</p>\n",
        "    </blockquote>\n",
        "    <p>8일 저녁 8시, MBC 메인뉴스인 '뉴스데스크' 대신 'MBC뉴스'라는 타이틀로 방송된 뉴스에서 임시 앵커를 맡은 김수지 아나운서는 짤막한 사과문을 읽어내려갔다.</p>\n",
        "  </body>\n",
        "</html>\n"
      ]
    },
    {
      "metadata": {
        "id": "JsxgnLoe1t8B",
        "colab_type": "code",
        "colab": {
          "base_uri": "https://localhost:8080/",
          "height": 34
        },
        "outputId": "9b924871-33f9-4a03-cbc4-ee59ddb15bfe"
      },
      "cell_type": "code",
      "source": [
        "from urllib import request\n",
        "\"\"\"import urllib.request로도 쓸 수 있지만,\n",
        "   아래의 request를 urllib.request라고 써야 함\"\"\"\n",
        "import html5lib\n",
        "\"\"\"이 코드 내에서 패키지를 불러옴\"\"\"\n",
        "\n",
        "url = \"https://www.naver.com\"\n",
        "with request.urlopen(url) as f:\n",
        "    html = f.read().decode('utf-8')\n",
        "\n",
        "html5lib.parse(html)\n",
        "\n",
        "dom = html5lib.parse(html)\n",
        "children = dom.getchildren()\n",
        "\"\"\"getchildren()을 시행하면 그 결과는 리스트임을 확인할 수 있음\n",
        "   따라서 children은 리스트 타입의 변수임\"\"\"\n",
        "\n",
        "head = children[0] # head를 의미 / head에 있는 title이라는 키워드를 찾아 뽑아내는 것을 할 것\n",
        "\"\"\"태그이름을 불러오는 것과 태그 내의 내용을 찾아오는 것이 필요\"\"\"\n",
        "\n",
        "for tag_name in head.getchildren():\n",
        "  if 'title' in str(tag_name):\n",
        "    print(tag_name.text)\n",
        "    break"
      ],
      "execution_count": 42,
      "outputs": [
        {
          "output_type": "stream",
          "text": [
            "NAVER\n"
          ],
          "name": "stdout"
        }
      ]
    },
    {
      "metadata": {
        "id": "bgKjQfkkAAOf",
        "colab_type": "code",
        "colab": {}
      },
      "cell_type": "code",
      "source": [
        "from urllib import request\n",
        "\"\"\"import urllib.request로도 쓸 수 있지만,\n",
        "   아래의 request를 urllib.request라고 써야 함\"\"\"\n",
        "import html5lib\n",
        "\"\"\"이 코드 내에서 패키지를 불러옴\"\"\"\n",
        "\n",
        "url = \"https://www.naver.com\"\n",
        "with request.urlopen(url) as f:\n",
        "    html = f.read().decode('utf-8')\n",
        "\n",
        "html5lib.parse(html)\n",
        "\n",
        "dom = html5lib.parse(html)\n",
        "children = dom.getchildren()\n",
        "\"\"\"getchildren()을 시행하면 그 결과는 리스트임을 확인할 수 있음\n",
        "   따라서 children은 리스트 타입의 변수임\"\"\"\n",
        "\n",
        "head = children[0] # head를 의미 / head에 있는 title이라는 키워드를 찾아 뽑아내는 것을 할 것\n",
        "\"\"\"태그이름을 불러오는 것과 태그 내의 내용을 찾아오는 것이 필요\"\"\"\n",
        "\n",
        "for element in head.getchildren():\n",
        "  if element.tag[-5:] == 'title':  # 조금 더 엄밀학 하기 위함\n",
        "    print(element.text)\n",
        "    break"
      ],
      "execution_count": 0,
      "outputs": []
    },
    {
      "metadata": {
        "id": "gQkG1sbqAB7S",
        "colab_type": "code",
        "colab": {
          "base_uri": "https://localhost:8080/",
          "height": 34
        },
        "outputId": "4094ca1f-7f36-4a6f-ab14-6a10758d5180"
      },
      "cell_type": "code",
      "source": [
        "from urllib import request\n",
        "\"\"\"import urllib.request로도 쓸 수 있지만,\n",
        "   아래의 request를 urllib.request라고 써야 함\"\"\"\n",
        "import html5lib\n",
        "\"\"\"이 코드 내에서 패키지를 불러옴\"\"\"\n",
        "\n",
        "url = \"https://www.naver.com\"\n",
        "with request.urlopen(url) as f:\n",
        "    html = f.read().decode('utf-8')\n",
        "\n",
        "html5lib.parse(html)\n",
        "\n",
        "dom = html5lib.parse(html)\n",
        "children = dom.getchildren()\n",
        "\"\"\"getchildren()을 시행하면 그 결과는 리스트임을 확인할 수 있음\n",
        "   따라서 children은 리스트 타입의 변수임\"\"\"\n",
        "\n",
        "head = children[0] # head를 의미 / head에 있는 title이라는 키워드를 찾아 뽑아내는 것을 할 것\n",
        "\"\"\"태그이름을 불러오는 것과 태그 내의 내용을 찾아오는 것이 필요\"\"\"\n",
        "\n",
        "head.getchildren()[0]"
      ],
      "execution_count": 59,
      "outputs": [
        {
          "output_type": "execute_result",
          "data": {
            "text/plain": [
              "<Element '{http://www.w3.org/1999/xhtml}meta' at 0x7fc5950c8138>"
            ]
          },
          "metadata": {
            "tags": []
          },
          "execution_count": 59
        }
      ]
    },
    {
      "metadata": {
        "id": "Nl3peC69A9F0",
        "colab_type": "code",
        "colab": {}
      },
      "cell_type": "code",
      "source": [
        ""
      ],
      "execution_count": 0,
      "outputs": []
    }
  ]
}
